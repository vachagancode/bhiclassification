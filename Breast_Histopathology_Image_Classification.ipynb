{
  "nbformat": 4,
  "nbformat_minor": 0,
  "metadata": {
    "colab": {
      "provenance": [],
      "gpuType": "T4",
      "authorship_tag": "ABX9TyOySmQFsKP8KCYykTNf1pk6",
      "include_colab_link": true
    },
    "kernelspec": {
      "name": "python3",
      "display_name": "Python 3"
    },
    "language_info": {
      "name": "python"
    },
    "accelerator": "GPU",
    "widgets": {
      "application/vnd.jupyter.widget-state+json": {
        "b514445ac50a4caeaa617a9c9b090341": {
          "model_module": "@jupyter-widgets/controls",
          "model_name": "HBoxModel",
          "model_module_version": "1.5.0",
          "state": {
            "_dom_classes": [],
            "_model_module": "@jupyter-widgets/controls",
            "_model_module_version": "1.5.0",
            "_model_name": "HBoxModel",
            "_view_count": null,
            "_view_module": "@jupyter-widgets/controls",
            "_view_module_version": "1.5.0",
            "_view_name": "HBoxView",
            "box_style": "",
            "children": [
              "IPY_MODEL_ae5773e69ba94078bcb781d8ccbb602e",
              "IPY_MODEL_e413905d58764bd3a1fedf3f4a3ae35a",
              "IPY_MODEL_6477d0a7c92446e5aaea5a316feefec8"
            ],
            "layout": "IPY_MODEL_28dea0b85989496995a1af74207d9e3f"
          }
        },
        "ae5773e69ba94078bcb781d8ccbb602e": {
          "model_module": "@jupyter-widgets/controls",
          "model_name": "HTMLModel",
          "model_module_version": "1.5.0",
          "state": {
            "_dom_classes": [],
            "_model_module": "@jupyter-widgets/controls",
            "_model_module_version": "1.5.0",
            "_model_name": "HTMLModel",
            "_view_count": null,
            "_view_module": "@jupyter-widgets/controls",
            "_view_module_version": "1.5.0",
            "_view_name": "HTMLView",
            "description": "",
            "description_tooltip": null,
            "layout": "IPY_MODEL_ad5d45c1ef2244ab86498d3f8633d3d3",
            "placeholder": "​",
            "style": "IPY_MODEL_24d20d83dfb045ee88b226e6fed782e6",
            "value": "100%"
          }
        },
        "e413905d58764bd3a1fedf3f4a3ae35a": {
          "model_module": "@jupyter-widgets/controls",
          "model_name": "FloatProgressModel",
          "model_module_version": "1.5.0",
          "state": {
            "_dom_classes": [],
            "_model_module": "@jupyter-widgets/controls",
            "_model_module_version": "1.5.0",
            "_model_name": "FloatProgressModel",
            "_view_count": null,
            "_view_module": "@jupyter-widgets/controls",
            "_view_module_version": "1.5.0",
            "_view_name": "ProgressView",
            "bar_style": "success",
            "description": "",
            "description_tooltip": null,
            "layout": "IPY_MODEL_692a4eb71aff41189fff86e0c69dc1d5",
            "max": 10,
            "min": 0,
            "orientation": "horizontal",
            "style": "IPY_MODEL_c9c90719dd8749e9acbe81f6d8a3d880",
            "value": 10
          }
        },
        "6477d0a7c92446e5aaea5a316feefec8": {
          "model_module": "@jupyter-widgets/controls",
          "model_name": "HTMLModel",
          "model_module_version": "1.5.0",
          "state": {
            "_dom_classes": [],
            "_model_module": "@jupyter-widgets/controls",
            "_model_module_version": "1.5.0",
            "_model_name": "HTMLModel",
            "_view_count": null,
            "_view_module": "@jupyter-widgets/controls",
            "_view_module_version": "1.5.0",
            "_view_name": "HTMLView",
            "description": "",
            "description_tooltip": null,
            "layout": "IPY_MODEL_8887e3eeae0942099722732df520b598",
            "placeholder": "​",
            "style": "IPY_MODEL_4ad19247f02f4daeac19bb44bea5e365",
            "value": " 10/10 [43:29&lt;00:00, 259.63s/it]"
          }
        },
        "28dea0b85989496995a1af74207d9e3f": {
          "model_module": "@jupyter-widgets/base",
          "model_name": "LayoutModel",
          "model_module_version": "1.2.0",
          "state": {
            "_model_module": "@jupyter-widgets/base",
            "_model_module_version": "1.2.0",
            "_model_name": "LayoutModel",
            "_view_count": null,
            "_view_module": "@jupyter-widgets/base",
            "_view_module_version": "1.2.0",
            "_view_name": "LayoutView",
            "align_content": null,
            "align_items": null,
            "align_self": null,
            "border": null,
            "bottom": null,
            "display": null,
            "flex": null,
            "flex_flow": null,
            "grid_area": null,
            "grid_auto_columns": null,
            "grid_auto_flow": null,
            "grid_auto_rows": null,
            "grid_column": null,
            "grid_gap": null,
            "grid_row": null,
            "grid_template_areas": null,
            "grid_template_columns": null,
            "grid_template_rows": null,
            "height": null,
            "justify_content": null,
            "justify_items": null,
            "left": null,
            "margin": null,
            "max_height": null,
            "max_width": null,
            "min_height": null,
            "min_width": null,
            "object_fit": null,
            "object_position": null,
            "order": null,
            "overflow": null,
            "overflow_x": null,
            "overflow_y": null,
            "padding": null,
            "right": null,
            "top": null,
            "visibility": null,
            "width": null
          }
        },
        "ad5d45c1ef2244ab86498d3f8633d3d3": {
          "model_module": "@jupyter-widgets/base",
          "model_name": "LayoutModel",
          "model_module_version": "1.2.0",
          "state": {
            "_model_module": "@jupyter-widgets/base",
            "_model_module_version": "1.2.0",
            "_model_name": "LayoutModel",
            "_view_count": null,
            "_view_module": "@jupyter-widgets/base",
            "_view_module_version": "1.2.0",
            "_view_name": "LayoutView",
            "align_content": null,
            "align_items": null,
            "align_self": null,
            "border": null,
            "bottom": null,
            "display": null,
            "flex": null,
            "flex_flow": null,
            "grid_area": null,
            "grid_auto_columns": null,
            "grid_auto_flow": null,
            "grid_auto_rows": null,
            "grid_column": null,
            "grid_gap": null,
            "grid_row": null,
            "grid_template_areas": null,
            "grid_template_columns": null,
            "grid_template_rows": null,
            "height": null,
            "justify_content": null,
            "justify_items": null,
            "left": null,
            "margin": null,
            "max_height": null,
            "max_width": null,
            "min_height": null,
            "min_width": null,
            "object_fit": null,
            "object_position": null,
            "order": null,
            "overflow": null,
            "overflow_x": null,
            "overflow_y": null,
            "padding": null,
            "right": null,
            "top": null,
            "visibility": null,
            "width": null
          }
        },
        "24d20d83dfb045ee88b226e6fed782e6": {
          "model_module": "@jupyter-widgets/controls",
          "model_name": "DescriptionStyleModel",
          "model_module_version": "1.5.0",
          "state": {
            "_model_module": "@jupyter-widgets/controls",
            "_model_module_version": "1.5.0",
            "_model_name": "DescriptionStyleModel",
            "_view_count": null,
            "_view_module": "@jupyter-widgets/base",
            "_view_module_version": "1.2.0",
            "_view_name": "StyleView",
            "description_width": ""
          }
        },
        "692a4eb71aff41189fff86e0c69dc1d5": {
          "model_module": "@jupyter-widgets/base",
          "model_name": "LayoutModel",
          "model_module_version": "1.2.0",
          "state": {
            "_model_module": "@jupyter-widgets/base",
            "_model_module_version": "1.2.0",
            "_model_name": "LayoutModel",
            "_view_count": null,
            "_view_module": "@jupyter-widgets/base",
            "_view_module_version": "1.2.0",
            "_view_name": "LayoutView",
            "align_content": null,
            "align_items": null,
            "align_self": null,
            "border": null,
            "bottom": null,
            "display": null,
            "flex": null,
            "flex_flow": null,
            "grid_area": null,
            "grid_auto_columns": null,
            "grid_auto_flow": null,
            "grid_auto_rows": null,
            "grid_column": null,
            "grid_gap": null,
            "grid_row": null,
            "grid_template_areas": null,
            "grid_template_columns": null,
            "grid_template_rows": null,
            "height": null,
            "justify_content": null,
            "justify_items": null,
            "left": null,
            "margin": null,
            "max_height": null,
            "max_width": null,
            "min_height": null,
            "min_width": null,
            "object_fit": null,
            "object_position": null,
            "order": null,
            "overflow": null,
            "overflow_x": null,
            "overflow_y": null,
            "padding": null,
            "right": null,
            "top": null,
            "visibility": null,
            "width": null
          }
        },
        "c9c90719dd8749e9acbe81f6d8a3d880": {
          "model_module": "@jupyter-widgets/controls",
          "model_name": "ProgressStyleModel",
          "model_module_version": "1.5.0",
          "state": {
            "_model_module": "@jupyter-widgets/controls",
            "_model_module_version": "1.5.0",
            "_model_name": "ProgressStyleModel",
            "_view_count": null,
            "_view_module": "@jupyter-widgets/base",
            "_view_module_version": "1.2.0",
            "_view_name": "StyleView",
            "bar_color": null,
            "description_width": ""
          }
        },
        "8887e3eeae0942099722732df520b598": {
          "model_module": "@jupyter-widgets/base",
          "model_name": "LayoutModel",
          "model_module_version": "1.2.0",
          "state": {
            "_model_module": "@jupyter-widgets/base",
            "_model_module_version": "1.2.0",
            "_model_name": "LayoutModel",
            "_view_count": null,
            "_view_module": "@jupyter-widgets/base",
            "_view_module_version": "1.2.0",
            "_view_name": "LayoutView",
            "align_content": null,
            "align_items": null,
            "align_self": null,
            "border": null,
            "bottom": null,
            "display": null,
            "flex": null,
            "flex_flow": null,
            "grid_area": null,
            "grid_auto_columns": null,
            "grid_auto_flow": null,
            "grid_auto_rows": null,
            "grid_column": null,
            "grid_gap": null,
            "grid_row": null,
            "grid_template_areas": null,
            "grid_template_columns": null,
            "grid_template_rows": null,
            "height": null,
            "justify_content": null,
            "justify_items": null,
            "left": null,
            "margin": null,
            "max_height": null,
            "max_width": null,
            "min_height": null,
            "min_width": null,
            "object_fit": null,
            "object_position": null,
            "order": null,
            "overflow": null,
            "overflow_x": null,
            "overflow_y": null,
            "padding": null,
            "right": null,
            "top": null,
            "visibility": null,
            "width": null
          }
        },
        "4ad19247f02f4daeac19bb44bea5e365": {
          "model_module": "@jupyter-widgets/controls",
          "model_name": "DescriptionStyleModel",
          "model_module_version": "1.5.0",
          "state": {
            "_model_module": "@jupyter-widgets/controls",
            "_model_module_version": "1.5.0",
            "_model_name": "DescriptionStyleModel",
            "_view_count": null,
            "_view_module": "@jupyter-widgets/base",
            "_view_module_version": "1.2.0",
            "_view_name": "StyleView",
            "description_width": ""
          }
        }
      }
    }
  },
  "cells": [
    {
      "cell_type": "markdown",
      "metadata": {
        "id": "view-in-github",
        "colab_type": "text"
      },
      "source": [
        "<a href=\"https://colab.research.google.com/github/vachagancode/bhiclassification/blob/main/Breast_Histopathology_Image_Classification.ipynb\" target=\"_parent\"><img src=\"https://colab.research.google.com/assets/colab-badge.svg\" alt=\"Open In Colab\"/></a>"
      ]
    },
    {
      "cell_type": "code",
      "execution_count": 1,
      "metadata": {
        "colab": {
          "base_uri": "https://localhost:8080/"
        },
        "id": "unItFmuUQuKq",
        "outputId": "b3fb46ec-524b-4142-ee2d-7350c96353f1"
      },
      "outputs": [
        {
          "output_type": "stream",
          "name": "stdout",
          "text": [
            "Dataset URL: https://www.kaggle.com/datasets/paultimothymooney/breast-histopathology-images\n",
            "License(s): CC0-1.0\n",
            "Downloading breast-histopathology-images.zip to /content\n",
            "100% 3.09G/3.10G [00:33<00:00, 81.9MB/s]\n",
            "100% 3.10G/3.10G [00:33<00:00, 98.3MB/s]\n"
          ]
        }
      ],
      "source": [
        "# Only run this if you haven't downloaded the dataset\n",
        "!kaggle datasets download paultimothymooney/breast-histopathology-images"
      ]
    },
    {
      "cell_type": "code",
      "source": [
        "import zipfile\n",
        "\n",
        "with zipfile.ZipFile(\"breast-histopathology-images.zip\") as zp:\n",
        "  zp.extractall(\"data/\")"
      ],
      "metadata": {
        "collapsed": true,
        "id": "kBH1S1BEQ2Cx"
      },
      "execution_count": 2,
      "outputs": []
    },
    {
      "cell_type": "code",
      "source": [
        "# Do all teh imports\n",
        "import torch\n",
        "from torch import nn\n",
        "import torchvision\n",
        "\n",
        "device = \"cuda\" if torch.cuda.is_available() else \"cpu\"\n",
        "\n",
        "print(f\"Torch version: {torch.__version__}\\nTorchvision version: {torchvision.__version__}\\nDevice: {device}\")"
      ],
      "metadata": {
        "colab": {
          "base_uri": "https://localhost:8080/"
        },
        "id": "nM4aOomBRYF4",
        "outputId": "c0f14d86-ecb9-4e90-deb6-53ade88d870d"
      },
      "execution_count": 3,
      "outputs": [
        {
          "output_type": "stream",
          "name": "stdout",
          "text": [
            "Torch version: 2.5.1+cu121\n",
            "Torchvision version: 0.20.1+cu121\n",
            "Device: cuda\n"
          ]
        }
      ]
    },
    {
      "cell_type": "code",
      "source": [
        "import os\n",
        "import pathlib\n",
        "source_dir = pathlib.Path(\"data/IDC_regular_ps50_idx5\")\n",
        "dirs = os.listdir(source_dir)\n",
        "t_set = int(len(os.listdir(\"data/IDC_regular_ps50_idx5\")) * 0.8)\n",
        "\n",
        "# train_set = dirs[:t_set]\n",
        "# test_set = dirs[t_set:]\n",
        "# train_set,  test_set"
      ],
      "metadata": {
        "collapsed": true,
        "id": "04BkSdcCU7JJ"
      },
      "execution_count": 4,
      "outputs": []
    },
    {
      "cell_type": "code",
      "source": [
        "import requests\n",
        "\n",
        "# get teh data_setup.py\n",
        "with open(\"data_setup.py\", \"wb\") as f:\n",
        "  response = requests.get(\"https://raw.githubusercontent.com/vachagancode/ZarzandOrByuzand_Dectector/refs/heads/main/data_setup.py\")\n",
        "  f.write(response.content)\n",
        "\n",
        "with open(\"engine.py\", \"wb\") as f:\n",
        "  response = requests.get(\"https://raw.githubusercontent.com/vachagancode/ZarzandOrByuzand_Dectector/refs/heads/main/engine.py\")\n",
        "  f.write(response.content)"
      ],
      "metadata": {
        "id": "BY9QqHOtIxqe"
      },
      "execution_count": 5,
      "outputs": []
    },
    {
      "cell_type": "code",
      "source": [
        "!rmdir dataset/.ipynb_checkpoints/\n",
        "!rmdir .ipynb_checkpoints/"
      ],
      "metadata": {
        "colab": {
          "base_uri": "https://localhost:8080/"
        },
        "id": "JCTYnvxGIT4a",
        "outputId": "a2ea853c-8f89-4398-caef-a52db3d3564e"
      },
      "execution_count": 6,
      "outputs": [
        {
          "output_type": "stream",
          "name": "stdout",
          "text": [
            "rmdir: failed to remove 'dataset/.ipynb_checkpoints/': No such file or directory\n",
            "rmdir: failed to remove '.ipynb_checkpoints/': No such file or directory\n"
          ]
        }
      ]
    },
    {
      "cell_type": "code",
      "source": [
        "!mkdir dataset/\n",
        "!mkdir dataset/train/\n",
        "!mkdir dataset/test/"
      ],
      "metadata": {
        "id": "OBRu1SlkKQl0"
      },
      "execution_count": 7,
      "outputs": []
    },
    {
      "cell_type": "code",
      "source": [
        "# now get all the 0 and 1 (pnegative and positive) cases in one list\n",
        "import shutil\n",
        "positive_cases = []\n",
        "negative_cases = []\n",
        "\n",
        "os.mkdir(\"dataset/train/1\")\n",
        "os.mkdir(\"dataset/train/0\")\n",
        "os.mkdir(\"dataset/test/1\")\n",
        "os.mkdir(\"dataset/test/0\")\n",
        "i = 0\n",
        "for dir in dirs:\n",
        "  i += 1\n",
        "  dest = \"train\" if i <= t_set else \"test\"\n",
        "  for c0 in os.listdir(source_dir / f\"{dir}/0\"):\n",
        "    negative_cases.append(c0)\n",
        "    shutil.move(source_dir / f\"{dir}/0/{c0}\", f\"dataset/{dest}/0\")\n",
        "  for c1 in os.listdir(source_dir / f\"{dir}/1\"):\n",
        "    positive_cases.append(c1)\n",
        "    shutil.move(source_dir / f\"{dir}/1/{c1}\", f\"dataset/{dest}/1\")"
      ],
      "metadata": {
        "id": "RcqZPsi8csr-"
      },
      "execution_count": 8,
      "outputs": []
    },
    {
      "cell_type": "code",
      "source": [
        "print(f\"Total positive cases: {len(positive_cases)}\\nTotal negative cases: {len(negative_cases)}\")\n",
        "total_cases = len(positive_cases) + len(negative_cases)\n",
        "print(f\"Total cases: {total_cases}\")"
      ],
      "metadata": {
        "colab": {
          "base_uri": "https://localhost:8080/"
        },
        "id": "kAw2Wqzh1aat",
        "outputId": "09d7818c-30f1-498b-ca66-08b828d5615f"
      },
      "execution_count": 9,
      "outputs": [
        {
          "output_type": "stream",
          "name": "stdout",
          "text": [
            "Total positive cases: 78786\n",
            "Total negative cases: 198738\n",
            "Total cases: 277524\n"
          ]
        }
      ]
    },
    {
      "cell_type": "code",
      "source": [
        "from torchvision import datasets, transforms\n",
        "from pathlib import Path\n",
        "from data_setup import create_dataloaders\n",
        "\n",
        "image_dir = Path(\"dataset/\")\n",
        "train_dir = image_dir / \"train\"\n",
        "test_dir = image_dir / \"test\"\n",
        "\n",
        "train_dir, test_dir"
      ],
      "metadata": {
        "colab": {
          "base_uri": "https://localhost:8080/"
        },
        "id": "x-USaTV8ppvG",
        "outputId": "8130dc58-b5e3-4848-d615-7b28d09d5c9c"
      },
      "execution_count": 10,
      "outputs": [
        {
          "output_type": "execute_result",
          "data": {
            "text/plain": [
              "(PosixPath('dataset/train'), PosixPath('dataset/test'))"
            ]
          },
          "metadata": {},
          "execution_count": 10
        }
      ]
    },
    {
      "cell_type": "code",
      "source": [
        "BATCH_SIZE = 32\n",
        "NUM_WORKERS = os.cpu_count()\n",
        "\n",
        "data_transform = transforms.Compose([\n",
        "    transforms.Resize((50, 50)),\n",
        "\t\ttransforms.ToTensor()\n",
        "])\n",
        "\n",
        "train_dataloader, test_dataloader, class_names = create_dataloaders(\n",
        "    train_dir=train_dir,\n",
        "    test_dir=test_dir,\n",
        "    batch_size=BATCH_SIZE,\n",
        "    num_workers=NUM_WORKERS,\n",
        "    transform=data_transform\n",
        ")\n",
        "\n",
        "train_dataloader, test_dataloader, class_names"
      ],
      "metadata": {
        "colab": {
          "base_uri": "https://localhost:8080/"
        },
        "id": "FCRPMjxljvwp",
        "outputId": "0a3915fc-bc10-45fe-83de-6283aec4ebbe"
      },
      "execution_count": 11,
      "outputs": [
        {
          "output_type": "execute_result",
          "data": {
            "text/plain": [
              "(<torch.utils.data.dataloader.DataLoader at 0x7f89b9c4c0a0>,\n",
              " <torch.utils.data.dataloader.DataLoader at 0x7f89b9c4fc70>,\n",
              " ['0', '1'])"
            ]
          },
          "metadata": {},
          "execution_count": 11
        }
      ]
    },
    {
      "cell_type": "code",
      "source": [
        "# It's left to build the model\n",
        "\n",
        "P = 10\n",
        "H = 50\n",
        "W = 50\n",
        "\n",
        "number_of_patches = int((H * W) / P ** 2)"
      ],
      "metadata": {
        "id": "7AqjDUO3tkWk"
      },
      "execution_count": 12,
      "outputs": []
    },
    {
      "cell_type": "code",
      "source": [
        "class PatchEmbedding(nn.Module):\n",
        "  def __init__(self, in_channels : int = 3, embedding_dim : int = 300, patch_size : int = 10):\n",
        "    super().__init__()\n",
        "    self.patcher = nn.Conv2d(\n",
        "        in_channels=in_channels,\n",
        "        out_channels=embedding_dim,\n",
        "        kernel_size=patch_size,\n",
        "        stride=patch_size,\n",
        "        padding=0\n",
        "    )\n",
        "\n",
        "    self.flatter = nn.Flatten(\n",
        "        start_dim=2,\n",
        "        end_dim=3\n",
        "    )\n",
        "\n",
        "  def forward(self, x):\n",
        "    x_patched = self.patcher(x)\n",
        "    x_flattened = self.flatter(x_patched)\n",
        "\n",
        "    return x_flattened.permute(0, 2, 1)\n"
      ],
      "metadata": {
        "id": "-uRov8ZDy85L"
      },
      "execution_count": 13,
      "outputs": []
    },
    {
      "cell_type": "code",
      "source": [
        "# torch.manual_seed(34)\n",
        "\n",
        "# patchify = PatchEmbedding(in_channels=3, embedding_dim=300, patch_size=10)\n",
        "# print(image.shape)\n",
        "# patched_image = patchify(image.unsqueeze(dim=0))\n",
        "# print(patched_image.shape)"
      ],
      "metadata": {
        "id": "iUlmGjXhG0-3"
      },
      "execution_count": 14,
      "outputs": []
    },
    {
      "cell_type": "code",
      "source": [
        "class MSABlock(nn.Module):\n",
        "  \"\"\"Creates a multi-head self-attention block (\"MSA block\" for short).\"\"\"\n",
        "  def __init__(self, embedding_dim : int = 300, num_heads : int = 10, attn_dropout : float = 0):\n",
        "    super().__init__()\n",
        "\n",
        "    self.layer_norm = nn.LayerNorm(\n",
        "        normalized_shape=embedding_dim\n",
        "    )\n",
        "\n",
        "    self.multihead_attn = nn.MultiheadAttention(\n",
        "        embed_dim=embedding_dim,\n",
        "        num_heads=num_heads,\n",
        "        dropout=attn_dropout,\n",
        "        batch_first=True\n",
        "    )\n",
        "\n",
        "\n",
        "  def forward(self, x):\n",
        "    x = self.layer_norm(x)\n",
        "\n",
        "    attn_output, _ = self.multihead_attn(\n",
        "        query=x,\n",
        "        key=x,\n",
        "        value=x,\n",
        "        need_weights=False\n",
        "    )\n",
        "\n",
        "    return attn_output"
      ],
      "metadata": {
        "id": "BWMOje3JHhJ4"
      },
      "execution_count": 15,
      "outputs": []
    },
    {
      "cell_type": "code",
      "source": [
        "class MLPBlock(nn.Module):\n",
        "  def __init__(self, embedding_dim : int = 300, mlp_size : int = 3072, dropout : float = 0):\n",
        "    super().__init__()\n",
        "\n",
        "    self.norm_layer = nn.LayerNorm(\n",
        "        normalized_shape = embedding_dim\n",
        "    )\n",
        "\n",
        "    self.mlp = nn.Sequential(\n",
        "        nn.Linear(in_features=embedding_dim, out_features=mlp_size),\n",
        "        nn.GELU(),\n",
        "        nn.Dropout(p=dropout),\n",
        "        nn.Linear(in_features=mlp_size, out_features=embedding_dim),\n",
        "        nn.Dropout(p=dropout)\n",
        "    )\n",
        "\n",
        "  def forward(self, x):\n",
        "    x = self.norm_layer(x)\n",
        "\n",
        "    x = self.mlp(x)\n",
        "\n",
        "    return x"
      ],
      "metadata": {
        "id": "YXsK5Cv5SDBO"
      },
      "execution_count": 16,
      "outputs": []
    },
    {
      "cell_type": "code",
      "source": [
        "class TransformerEncoderLayer(nn.Module):\n",
        "  def __init__(self, embedding_dim : int = 300, num_heads : int = 10, attn_dropout : float = 0,\n",
        "               mlp_size : int = 1072, dropout : float = 0):\n",
        "\n",
        "    super().__init__()\n",
        "    self.msa = MSABlock(\n",
        "        embedding_dim=embedding_dim,\n",
        "        num_heads=num_heads,\n",
        "        attn_dropout=0\n",
        "    )\n",
        "\n",
        "    self.mlp = MLPBlock(\n",
        "      embedding_dim=embedding_dim,\n",
        "      mlp_size=mlp_size,\n",
        "      dropout=attn_dropout\n",
        "    )\n",
        "\n",
        "  def forward(self, x):\n",
        "\n",
        "    # <... + x>  adding residual connections\n",
        "    x = self.msa(x) + x\n",
        "    x = self.mlp(x) + x\n",
        "\n",
        "    return x"
      ],
      "metadata": {
        "id": "tV-16Fz7c92_"
      },
      "execution_count": 17,
      "outputs": []
    },
    {
      "cell_type": "code",
      "source": [
        "class ViT(nn.Module):\n",
        "  def __init__(self, image_size : int = 50,\n",
        "                    in_channels : int = 3,\n",
        "                    patch_size : int = 10,\n",
        "                    num_transformer_layers : int = 8,\n",
        "                    embedding_dim : int = 300,\n",
        "                    num_heads : int = 10,\n",
        "                    attn_dropout : float = 0,\n",
        "                    mlp_size : int = 1072,\n",
        "                    dropout : float = 0,\n",
        "                    embedding_dropout : float = 0.1,\n",
        "                    num_classes : int = 2\n",
        "               ):\n",
        "    super().__init__()\n",
        "    assert image_size % patch_size == 0, \"Image size must be divisible with the patch size\"\n",
        "\n",
        "    self.num_patches = (image_size * image_size) // patch_size**2\n",
        "\n",
        "    self.class_embedding = nn.Parameter(\n",
        "        data=torch.randn(1, 1, embedding_dim),\n",
        "        requires_grad=True\n",
        "    )\n",
        "\n",
        "    self.position_embedding = nn.Parameter(\n",
        "        data=torch.randn(1, self.num_patches + 1, embedding_dim),\n",
        "        requires_grad=True\n",
        "    )\n",
        "\n",
        "    self.embedding_dropout = nn.Dropout(\n",
        "        p=embedding_dropout\n",
        "    )\n",
        "\n",
        "    self.patch_embedding = PatchEmbedding(\n",
        "        in_channels=in_channels,\n",
        "        patch_size=patch_size,\n",
        "        embedding_dim=embedding_dim\n",
        "    )\n",
        "\n",
        "    self.transformer_encoder = nn.Sequential(\n",
        "        *[TransformerEncoderLayer(\n",
        "            embedding_dim=embedding_dim,\n",
        "            num_heads=num_heads,\n",
        "            mlp_size=mlp_size,\n",
        "            dropout=dropout\n",
        "        ) for _ in range(num_transformer_layers)]\n",
        "    )\n",
        "\n",
        "    self.classifier = nn.Sequential(\n",
        "        nn.LayerNorm(\n",
        "            normalized_shape=embedding_dim\n",
        "        ),\n",
        "        nn.Linear(in_features=embedding_dim, out_features=num_classes)\n",
        "    )\n",
        "\n",
        "  def forward(self, x):\n",
        "\n",
        "    batch_size = x.shape[0]\n",
        "\n",
        "    class_token = self.class_embedding.expand(batch_size, -1, -1)\n",
        "\n",
        "    x = self.patch_embedding(x)\n",
        "\n",
        "    x = torch.cat((class_token, x), dim=1)\n",
        "\n",
        "    x = self.position_embedding + x\n",
        "\n",
        "    x = self.embedding_dropout(x)\n",
        "\n",
        "    x = self.transformer_encoder(x)\n",
        "\n",
        "    x = self.classifier(x[:, 0])\n",
        "\n",
        "    return x"
      ],
      "metadata": {
        "id": "ihv3htLyd7i6"
      },
      "execution_count": 18,
      "outputs": []
    },
    {
      "cell_type": "code",
      "source": [
        "vit = ViT(num_classes=len(class_names)).to(device)"
      ],
      "metadata": {
        "id": "p2lPpiI0HnvQ"
      },
      "execution_count": 19,
      "outputs": []
    },
    {
      "cell_type": "code",
      "source": [
        "random_image = torch.randn(1, 3, 50, 50).to(device)\n",
        "\n",
        "vit(random_image)"
      ],
      "metadata": {
        "colab": {
          "base_uri": "https://localhost:8080/"
        },
        "id": "6QenruFLaxr6",
        "outputId": "195e3636-97fa-4943-97b5-651c95fc6858"
      },
      "execution_count": 20,
      "outputs": [
        {
          "output_type": "execute_result",
          "data": {
            "text/plain": [
              "tensor([[-0.1578, -0.7049]], device='cuda:0', grad_fn=<AddmmBackward0>)"
            ]
          },
          "metadata": {},
          "execution_count": 20
        }
      ]
    },
    {
      "cell_type": "code",
      "source": [
        "from engine import train\n",
        "\n",
        "optimizer = torch.optim.Adam(\n",
        "  params=vit.parameters(),\n",
        "\tlr=3e-3,\n",
        "\tbetas=(0.9, 0.999),\n",
        "\tweight_decay=0.3\n",
        ")\n",
        "loss_fn = nn.CrossEntropyLoss()\n",
        "\n",
        "torch.manual_seed(42)\n",
        "\n",
        "results = train(\n",
        "  model=vit,\n",
        "\ttrain_dataloader=train_dataloader,\n",
        "\ttest_dataloader=test_dataloader,\n",
        "\toptimizer=optimizer,\n",
        "\tloss_fn=loss_fn,\n",
        "\tepochs=10,\n",
        "\tdevice=device\n",
        ")"
      ],
      "metadata": {
        "id": "QqWjzlNxDEeK",
        "colab": {
          "base_uri": "https://localhost:8080/",
          "height": 223,
          "referenced_widgets": [
            "b514445ac50a4caeaa617a9c9b090341",
            "ae5773e69ba94078bcb781d8ccbb602e",
            "e413905d58764bd3a1fedf3f4a3ae35a",
            "6477d0a7c92446e5aaea5a316feefec8",
            "28dea0b85989496995a1af74207d9e3f",
            "ad5d45c1ef2244ab86498d3f8633d3d3",
            "24d20d83dfb045ee88b226e6fed782e6",
            "692a4eb71aff41189fff86e0c69dc1d5",
            "c9c90719dd8749e9acbe81f6d8a3d880",
            "8887e3eeae0942099722732df520b598",
            "4ad19247f02f4daeac19bb44bea5e365"
          ]
        },
        "outputId": "2226c16b-677e-4a89-e3d8-dd92cbf875c2"
      },
      "execution_count": 21,
      "outputs": [
        {
          "output_type": "display_data",
          "data": {
            "text/plain": [
              "  0%|          | 0/10 [00:00<?, ?it/s]"
            ],
            "application/vnd.jupyter.widget-view+json": {
              "version_major": 2,
              "version_minor": 0,
              "model_id": "b514445ac50a4caeaa617a9c9b090341"
            }
          },
          "metadata": {}
        },
        {
          "output_type": "stream",
          "name": "stdout",
          "text": [
            "Epoch: 1 | train_loss: 0.6011 | train_acc: 0.7165 | test_loss: 0.6030 | test_acc: 0.7140 | \n",
            "Epoch: 2 | train_loss: 0.5994 | train_acc: 0.7166 | test_loss: 0.5991 | test_acc: 0.7140 | \n",
            "Epoch: 3 | train_loss: 0.5993 | train_acc: 0.7166 | test_loss: 0.5985 | test_acc: 0.7140 | \n",
            "Epoch: 4 | train_loss: 0.5996 | train_acc: 0.7166 | test_loss: 0.6090 | test_acc: 0.7140 | \n",
            "Epoch: 5 | train_loss: 0.5994 | train_acc: 0.7166 | test_loss: 0.6009 | test_acc: 0.7140 | \n",
            "Epoch: 6 | train_loss: 0.5992 | train_acc: 0.7166 | test_loss: 0.6108 | test_acc: 0.7140 | \n",
            "Epoch: 7 | train_loss: 0.5996 | train_acc: 0.7166 | test_loss: 0.6035 | test_acc: 0.7140 | \n",
            "Epoch: 8 | train_loss: 0.5996 | train_acc: 0.7166 | test_loss: 0.6010 | test_acc: 0.7140 | \n",
            "Epoch: 9 | train_loss: 0.5994 | train_acc: 0.7166 | test_loss: 0.6018 | test_acc: 0.7140 | \n",
            "Epoch: 10 | train_loss: 0.5992 | train_acc: 0.7166 | test_loss: 0.6014 | test_acc: 0.7140 | \n"
          ]
        }
      ]
    },
    {
      "cell_type": "code",
      "source": [
        "import requests\n",
        "\n",
        "with open(\"utils.py\", \"wb\") as f:\n",
        "  response = requests.get(\"https://raw.githubusercontent.com/vachagancode/ZarzandOrByuzand_Dectector/refs/heads/main/utils.py\")\n",
        "  f.write(response.content)\n",
        "\n",
        "with open(\"helper_functions.py\", \"wb\") as f:\n",
        "  response = requests.get(\"https://raw.githubusercontent.com/vachagancode/ZarzandOrByuzand_Dectector/refs/heads/main/helper_functions.py\")\n",
        "  f.write(response.content)"
      ],
      "metadata": {
        "id": "mZnpQozRKRyG"
      },
      "execution_count": 22,
      "outputs": []
    },
    {
      "cell_type": "code",
      "source": [
        "!mkdir models/"
      ],
      "metadata": {
        "id": "myUJbmwtw290"
      },
      "execution_count": 23,
      "outputs": []
    },
    {
      "cell_type": "code",
      "source": [
        "# Save the model\n",
        "\n",
        "from utils import save_model\n",
        "\n",
        "model_name = \"vit_0.pth\"\n",
        "\n",
        "save_model(\n",
        "    model=vit,\n",
        "    target_dir=\"models/\",\n",
        "    model_name=model_name\n",
        ")"
      ],
      "metadata": {
        "colab": {
          "base_uri": "https://localhost:8080/"
        },
        "id": "Z4SMPKG2wUJI",
        "outputId": "49cb8eae-c215-4c36-a41b-832441d6593a"
      },
      "execution_count": 24,
      "outputs": [
        {
          "output_type": "stream",
          "name": "stdout",
          "text": [
            "[INFO] Saving model to: models/vit_0.pth\n"
          ]
        }
      ]
    },
    {
      "cell_type": "code",
      "source": [
        "# Now test the model\n",
        "\n",
        "# 1. Get a random image\n",
        "\n",
        "model_0 = ViT(num_classes=len(class_names))\n",
        "model_0.load_state_dict(torch.load(f\"models/{model_name}\", weights_only=True))\n",
        "\n",
        "plot_transform = transforms.Compose([\n",
        "    transforms.Resize((50, 50))\n",
        "])\n",
        "\n",
        "# pred_and_plot_image(\n",
        "#     model=model,\n",
        "#     image_path=\"\"\n",
        "#     class_names=class_names,\n",
        "#     transform=plot_transform,\n",
        "#     device=device\n",
        "# )"
      ],
      "metadata": {
        "id": "bBVyM9P7xowG"
      },
      "execution_count": 25,
      "outputs": []
    },
    {
      "cell_type": "code",
      "source": [
        "import random\n",
        "\n",
        "pr_image_name = os.listdir(\"dataset/test/1\")[random.randint(0, len(os.listdir(\"dataset/test/1\")))]\n",
        "nr_image_name = os.listdir(\"dataset/test/0\")[random.randint(0, len(os.listdir(\"dataset/test/0\")))]\n",
        "\n",
        "pr_path = f\"dataset/test/1/{pr_image_name}\"\n",
        "nr_path = f\"dataset/test/0/{nr_image_name}\""
      ],
      "metadata": {
        "id": "JMjkd5Zl6i6Y"
      },
      "execution_count": 26,
      "outputs": []
    },
    {
      "cell_type": "code",
      "source": [
        "from helper_functions import pred_and_plot_image\n",
        "\n",
        "pred_and_plot_image(\n",
        "      model=model_0,\n",
        "      image_path=pr_path,\n",
        "      class_names=class_names,\n",
        "      transform=plot_transform\n",
        ")\n",
        "# pred_and_plot_image(\n",
        "#       model=model_0,\n",
        "#       image_path=nr_path,\n",
        "#       class_names=class_names,\n",
        "#       transform=plot_transform\n",
        "# )"
      ],
      "metadata": {
        "colab": {
          "base_uri": "https://localhost:8080/",
          "height": 428
        },
        "id": "_1wIvRfq7f_t",
        "outputId": "6cb87512-467c-49a7-ea9e-92b4b764e80d"
      },
      "execution_count": 27,
      "outputs": [
        {
          "output_type": "display_data",
          "data": {
            "text/plain": [
              "<Figure size 640x480 with 1 Axes>"
            ],
            "image/png": "[encoded data removed]"
          },
          "metadata": {}
        }
      ]
    },
    {
      "cell_type": "code",
      "source": [
        "!git add .\n",
        "!git commit -m \"[COMMIT]: First commit\""
      ],
      "metadata": {
        "colab": {
          "base_uri": "https://localhost:8080/"
        },
        "id": "lR8xKzwKAmI1",
        "outputId": "d340f7dd-0fc0-4a02-b3c7-bc2d5b706f4b"
      },
      "execution_count": 32,
      "outputs": [
        {
          "output_type": "stream",
          "name": "stdout",
          "text": [
            "Author identity unknown\n",
            "\n",
            "*** Please tell me who you are.\n",
            "\n",
            "Run\n",
            "\n",
            "  git config --global user.email \"you@example.com\"\n",
            "  git config --global user.name \"Your Name\"\n",
            "\n",
            "to set your account's default identity.\n",
            "Omit --global to set the identity only in this repository.\n",
            "\n",
            "fatal: unable to auto-detect email address (got 'root@2af5b9104e6b.(none)')\n"
          ]
        }
      ]
    },
    {
      "cell_type": "code",
      "source": [
        "!git push -u origin main"
      ],
      "metadata": {
        "id": "53yapLVkBm8i",
        "colab": {
          "base_uri": "https://localhost:8080/"
        },
        "outputId": "43516a59-c77c-4235-c5d7-a88254698f92"
      },
      "execution_count": 34,
      "outputs": [
        {
          "output_type": "stream",
          "name": "stdout",
          "text": [
            "error: src refspec main does not match any\n",
            "\u001b[31merror: failed to push some refs to 'https://github.com/vachagancode/Breast_Histopathology_Image_Classification.git'\n",
            "\u001b[m"
          ]
        }
      ]
    },
    {
      "cell_type": "code",
      "source": [
        "!git init"
      ],
      "metadata": {
        "colab": {
          "base_uri": "https://localhost:8080/"
        },
        "id": "wNfHgwf3JT5x",
        "outputId": "0cff6d18-cc3f-4c59-8ce9-cce9b49d8d9b"
      },
      "execution_count": 35,
      "outputs": [
        {
          "output_type": "stream",
          "name": "stdout",
          "text": [
            "Reinitialized existing Git repository in /content/.git/\n"
          ]
        }
      ]
    },
    {
      "cell_type": "code",
      "source": [
        "!git add README.md"
      ],
      "metadata": {
        "colab": {
          "base_uri": "https://localhost:8080/"
        },
        "id": "PL2RMb83JUrF",
        "outputId": "5de3bec9-c1c2-425e-9d8e-0ea3d4cb132b"
      },
      "execution_count": 36,
      "outputs": [
        {
          "output_type": "stream",
          "name": "stdout",
          "text": [
            "fatal: pathspec 'README.md' did not match any files\n"
          ]
        }
      ]
    },
    {
      "cell_type": "code",
      "source": [
        "!git commit -m \"first commit\""
      ],
      "metadata": {
        "colab": {
          "base_uri": "https://localhost:8080/"
        },
        "id": "4smCF-h8JXW1",
        "outputId": "28d22e2b-f7c4-4f97-9b46-405d842c2763"
      },
      "execution_count": 37,
      "outputs": [
        {
          "output_type": "stream",
          "name": "stdout",
          "text": [
            "Author identity unknown\n",
            "\n",
            "*** Please tell me who you are.\n",
            "\n",
            "Run\n",
            "\n",
            "  git config --global user.email \"you@example.com\"\n",
            "  git config --global user.name \"Your Name\"\n",
            "\n",
            "to set your account's default identity.\n",
            "Omit --global to set the identity only in this repository.\n",
            "\n",
            "fatal: unable to auto-detect email address (got 'root@2af5b9104e6b.(none)')\n"
          ]
        }
      ]
    },
    {
      "cell_type": "code",
      "source": [
        "!git branch -M main"
      ],
      "metadata": {
        "id": "vN8nb4YCJZA1"
      },
      "execution_count": 38,
      "outputs": []
    },
    {
      "cell_type": "code",
      "source": [
        "!git remote add origin https://github.com/vachagancode/Breast_Histopathology_Image_Classification.git"
      ],
      "metadata": {
        "colab": {
          "base_uri": "https://localhost:8080/"
        },
        "id": "XMjj-HFgJekt",
        "outputId": "28c1b114-ef0d-4236-8a5f-1ff6416ced6a"
      },
      "execution_count": 39,
      "outputs": [
        {
          "output_type": "stream",
          "name": "stdout",
          "text": [
            "error: remote origin already exists.\n"
          ]
        }
      ]
    },
    {
      "cell_type": "code",
      "source": [
        "!git push -u origin main"
      ],
      "metadata": {
        "colab": {
          "base_uri": "https://localhost:8080/"
        },
        "id": "1rlC4vbJJge7",
        "outputId": "03354702-c73e-4569-d616-0ced23ce9d37"
      },
      "execution_count": 40,
      "outputs": [
        {
          "output_type": "stream",
          "name": "stdout",
          "text": [
            "error: src refspec main does not match any\n",
            "\u001b[31merror: failed to push some refs to 'https://github.com/vachagancode/Breast_Histopathology_Image_Classification.git'\n",
            "\u001b[m"
          ]
        }
      ]
    },
    {
      "cell_type": "code",
      "source": [],
      "metadata": {
        "id": "EVefTHZLJiW7"
      },
      "execution_count": null,
      "outputs": []
    }
  ]
}